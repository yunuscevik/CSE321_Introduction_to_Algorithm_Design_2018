{
 "cells": [
  {
   "cell_type": "markdown",
   "metadata": {},
   "source": [
    "# Part4"
   ]
  },
  {
   "cell_type": "markdown",
   "metadata": {},
   "source": [
    "### maxLeftAndRightSum"
   ]
  },
  {
   "cell_type": "markdown",
   "metadata": {},
   "source": [
    "The function \"maxLeftAndRightSum\" is the function that returns the sum of the totals of the right and left sides of the midpoint on a list."
   ]
  },
  {
   "cell_type": "code",
   "execution_count": 1,
   "metadata": {},
   "outputs": [],
   "source": [
    "def maxLeftAndRightSum(arr, leftValue, middlePoint, rightValue, sumOfValues=0, sumOfLeftValues=-10000, sumOfRightValues=-10000 ): \n",
    "    \n",
    "    for i in range(middlePoint, leftValue - 1, -1): \n",
    "        sumOfValues += arr[i]\n",
    "        if (sumOfValues > sumOfLeftValues): \n",
    "            sumOfLeftValues = sumOfValues \n",
    "    \n",
    "    sumOfValues = 0\n",
    "    for i in range(middlePoint + 1, rightValue + 1): \n",
    "        sumOfValues += arr[i] \n",
    "        if (sumOfValues > sumOfRightValues): \n",
    "            sumOfRightValues = sumOfValues \n",
    "        \n",
    "    return sumOfLeftValues + sumOfRightValues\n",
    "            "
   ]
  },
  {
   "cell_type": "markdown",
   "metadata": {},
   "source": [
    "### maxContiguousSubsetSum"
   ]
  },
  {
   "cell_type": "markdown",
   "metadata": {},
   "source": [
    "The function \"maxContiguousSubsetSum\" is the function that returns the maximum of the totals of the subsets on an array."
   ]
  },
  {
   "cell_type": "markdown",
   "metadata": {},
   "source": [
    "#### Complexity Analysis"
   ]
  },
  {
   "cell_type": "markdown",
   "metadata": {},
   "source": [
    "\"maxContiguousSubsetSum \" function is a recursive and  similar to \"Merge Sort\". Thus, this function can be solved using Master Theorem. The solution is avaliable below with Master Theorem.\n",
    "\n",
    "T(n) = 2T(n/2) + Θ(n)\n",
    "\"Master Theorem is applied\" \n",
    "\n",
    "a = 2, b = 2, f(n) = Θ(n)\n",
    "\n",
    "n^log_2⁡2 = n^1  is corrected    (case2)\n",
    "\n",
    "Θ(n^log_22 logn) ==> Θ(nlogn)"
   ]
  },
  {
   "cell_type": "code",
   "execution_count": 2,
   "metadata": {},
   "outputs": [],
   "source": [
    "def maxContiguousSubsetSum(arr, leftValue, rightValue): \n",
    "    \n",
    "    if (leftValue == rightValue): \n",
    "        return arr[leftValue] \n",
    "    \n",
    "    middlePoint = (leftValue + rightValue) // 2\n",
    "\n",
    "    return max(maxContiguousSubsetSum(arr, leftValue, middlePoint), \n",
    "            maxContiguousSubsetSum(arr, middlePoint + 1, rightValue), \n",
    "            maxLeftAndRightSum(arr, leftValue, middlePoint, rightValue))"
   ]
  },
  {
   "cell_type": "markdown",
   "metadata": {},
   "source": [
    "#### Main"
   ]
  },
  {
   "cell_type": "markdown",
   "metadata": {},
   "source": [
    "It is the trigger function that finds the maximum totals of contiguous subset by calling the function \"maxContiguousSubsetSum\" on an array."
   ]
  },
  {
   "cell_type": "code",
   "execution_count": 3,
   "metadata": {},
   "outputs": [],
   "source": [
    "def main():\n",
    "    arr = [5, -6, 6, 7, -6, 7, -4, 3]\n",
    "    result = maxContiguousSubsetSum(arr, 0, len(arr)-1) \n",
    "    print(\"Maximum contiguous sum is \", result)"
   ]
  },
  {
   "cell_type": "code",
   "execution_count": 4,
   "metadata": {},
   "outputs": [
    {
     "name": "stdout",
     "output_type": "stream",
     "text": [
      "Maximum contiguous sum is  14\n"
     ]
    }
   ],
   "source": [
    "if __name__ == \"__main__\":\n",
    "    main()"
   ]
  },
  {
   "cell_type": "code",
   "execution_count": null,
   "metadata": {},
   "outputs": [],
   "source": []
  },
  {
   "cell_type": "code",
   "execution_count": null,
   "metadata": {},
   "outputs": [],
   "source": []
  }
 ],
 "metadata": {
  "kernelspec": {
   "display_name": "Python 3",
   "language": "python",
   "name": "python3"
  },
  "language_info": {
   "codemirror_mode": {
    "name": "ipython",
    "version": 3
   },
   "file_extension": ".py",
   "mimetype": "text/x-python",
   "name": "python",
   "nbconvert_exporter": "python",
   "pygments_lexer": "ipython3",
   "version": "3.6.5"
  }
 },
 "nbformat": 4,
 "nbformat_minor": 2
}
