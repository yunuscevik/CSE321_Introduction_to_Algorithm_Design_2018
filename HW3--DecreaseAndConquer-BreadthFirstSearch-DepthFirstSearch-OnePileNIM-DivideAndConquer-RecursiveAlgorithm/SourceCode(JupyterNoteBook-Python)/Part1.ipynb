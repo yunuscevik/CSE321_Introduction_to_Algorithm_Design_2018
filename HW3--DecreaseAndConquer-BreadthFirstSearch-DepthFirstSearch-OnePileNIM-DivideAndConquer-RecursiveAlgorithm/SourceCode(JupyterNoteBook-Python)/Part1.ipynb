{
 "cells": [
  {
   "cell_type": "markdown",
   "metadata": {},
   "source": [
    "# Part1"
   ]
  },
  {
   "cell_type": "markdown",
   "metadata": {},
   "source": [
    "The pandas library is imported so that the Excel file can be read."
   ]
  },
  {
   "cell_type": "code",
   "execution_count": 1,
   "metadata": {},
   "outputs": [],
   "source": [
    "import pandas as pd"
   ]
  },
  {
   "cell_type": "markdown",
   "metadata": {},
   "source": [
    "### ReadFiletoGrap"
   ]
  },
  {
   "cell_type": "markdown",
   "metadata": {},
   "source": [
    "The ReadFiletoGrap function takes the file name as a parameter and generates a Graph with the data in it."
   ]
  },
  {
   "cell_type": "code",
   "execution_count": 2,
   "metadata": {},
   "outputs": [],
   "source": [
    "def ReadFiletoGrap(fileName):\n",
    "    graph = {}\n",
    "    rootVertex = None\n",
    "    data = pd.read_excel(fileName)\n",
    "    rootVertex = data.columns.values.tolist()[1]\n",
    "    dataLists = data.values\n",
    "    i = 2\n",
    "    while (i < len(dataLists)):\n",
    "        keyVertex = dataLists[i][0]\n",
    "        val = set()\n",
    "        while(i < len(dataLists) and keyVertex == dataLists[i][0]):\n",
    "            val.add(dataLists[i][1])\n",
    "            i += 1\n",
    "        graph[keyVertex] = val\n",
    "    return graph, rootVertex "
   ]
  },
  {
   "cell_type": "markdown",
   "metadata": {},
   "source": [
    "### DFS(Depth-First Search)"
   ]
  },
  {
   "cell_type": "markdown",
   "metadata": {},
   "source": [
    "It travels all vertexs within the Graph according to a Graph's root vertex with the DFS algorithm. This function returns the vertex list it travels. DFS algorithm uses stack. However, in this function, I implemented the recursive function with \"Decrease and Conquer\" algorithm using set instead of stack."
   ]
  },
  {
   "cell_type": "markdown",
   "metadata": {},
   "source": [
    "#### Complexity Analysis"
   ]
  },
  {
   "cell_type": "markdown",
   "metadata": {},
   "source": [
    "Vertex => V\n",
    "Edge   => E\n",
    "\n",
    "If your graph is implemented using adjacency lists, wherein each node maintains a list of all its adjacent edges, then, for each node, you could discover all its neighbors by traversing its adjacency list just once in linear time. \n",
    "\n",
    "T(n) = V*O(1) + E*O(1)\n",
    "\n",
    "T(n) = O(V) + O(E) ==> T(n) = O(V + E) \n",
    "\n",
    "However,\n",
    "In DFS, when we pass each node exactly once, the time complexity is at least T(n) = V*O(1) ==> T(n) = O(V)."
   ]
  },
  {
   "cell_type": "code",
   "execution_count": 3,
   "metadata": {},
   "outputs": [],
   "source": [
    "def DFS(graph, startVertex, visited=[]):\n",
    "    if startVertex not in visited:\n",
    "        visited.append(startVertex)\n",
    "    if startVertex in graph:    \n",
    "        for vertex in graph[startVertex] - set(visited):\n",
    "            DFS(graph, vertex, visited)\n",
    "    return visited"
   ]
  },
  {
   "cell_type": "markdown",
   "metadata": {},
   "source": [
    "### BFS(Breadth-First Search) "
   ]
  },
  {
   "cell_type": "markdown",
   "metadata": {},
   "source": [
    "It travels all vertexs within the Graph according to a Graph's root vertex with the BFS algorithm. This function returns the vertex list it travels. BFS algorithm uses queue. However, I have implemented the recursive function with the \"Decrease and Conquer\" algorithm using the list instead of queue in this function. In Recursive function, I took the first element of the List and added it to a new visited list."
   ]
  },
  {
   "cell_type": "markdown",
   "metadata": {},
   "source": [
    "#### Complexity Analysis"
   ]
  },
  {
   "cell_type": "markdown",
   "metadata": {},
   "source": [
    "The worst case (which is what O means), is basically for all vertices if the graph, do a O(1) operation with them - getting it from the queue, then for all outbound edges of v do another O(1) operation, adding their other end to the queue. Thus summing the first O(1) operation for all vertices gives O(V) and summing the O(outbound edge count) over all the vertices gives O(E), which gives O(V)+O(E)=O(V+E). Without the processing, or assuming it is O(1) like adding the vertex to a list.\n",
    "\n",
    "T(n) = O(V)+O(E) ==> T(n) = O(V+E)"
   ]
  },
  {
   "cell_type": "code",
   "execution_count": 4,
   "metadata": {},
   "outputs": [],
   "source": [
    "def BFS(graph, startVertex, queue=[], visited=[]):\n",
    "    if startVertex not in queue and startVertex not in visited:\n",
    "        queue.append(startVertex)\n",
    "    \n",
    "    for item in list(graph[startVertex]):\n",
    "        if item not in queue and item not in visited:\n",
    "            queue.append(item)\n",
    "\n",
    "    startVertex = queue[0]\n",
    "    queue.remove(startVertex)\n",
    "    visited.append(startVertex)\n",
    "    \n",
    "    if(startVertex in graph):\n",
    "        BFS(graph, startVertex, queue, visited)\n",
    "        \n",
    "    if(len(queue) > 0):\n",
    "        startVertex = queue[0]\n",
    "        queue.remove(startVertex)\n",
    "        visited.append(startVertex)\n",
    "        \n",
    "    return visited"
   ]
  },
  {
   "cell_type": "markdown",
   "metadata": {},
   "source": [
    "### PrintList"
   ]
  },
  {
   "cell_type": "markdown",
   "metadata": {},
   "source": [
    "Displays the data in the list in a specific format."
   ]
  },
  {
   "cell_type": "code",
   "execution_count": 5,
   "metadata": {},
   "outputs": [],
   "source": [
    "def PrintList(string,tList):\n",
    "    print(string, end='')\n",
    "    for i in range(0,len(tList)):\n",
    "        if(i < len(tList)-1):\n",
    "            print(str(tList[i]) + \" -> \", end='')\n",
    "        else:\n",
    "            print(str(tList[i]))"
   ]
  },
  {
   "cell_type": "markdown",
   "metadata": {},
   "source": [
    "### Main"
   ]
  },
  {
   "cell_type": "markdown",
   "metadata": {},
   "source": [
    "Read from Excel file, trigger function in which BFS and DFS functions are executed"
   ]
  },
  {
   "cell_type": "code",
   "execution_count": 6,
   "metadata": {},
   "outputs": [],
   "source": [
    "def main():\n",
    "    graph, rootVertex = ReadFiletoGrap('Graph_data.XLS')\n",
    "    PrintList(\"BFS: \", BFS(graph, rootVertex))\n",
    "    PrintList(\"DFS: \", DFS(graph, rootVertex))"
   ]
  },
  {
   "cell_type": "code",
   "execution_count": 7,
   "metadata": {},
   "outputs": [
    {
     "name": "stdout",
     "output_type": "stream",
     "text": [
      "BFS: 1 -> 2 -> 3 -> 4 -> 5 -> 8 -> 9 -> 6 -> 10 -> 7\n",
      "DFS: 1 -> 2 -> 4 -> 5 -> 6 -> 7 -> 8 -> 9 -> 10 -> 3\n"
     ]
    }
   ],
   "source": [
    "if __name__ == \"__main__\":\n",
    "    main()"
   ]
  },
  {
   "cell_type": "code",
   "execution_count": null,
   "metadata": {},
   "outputs": [],
   "source": []
  },
  {
   "cell_type": "code",
   "execution_count": null,
   "metadata": {},
   "outputs": [],
   "source": []
  }
 ],
 "metadata": {
  "kernelspec": {
   "display_name": "Python 3",
   "language": "python",
   "name": "python3"
  },
  "language_info": {
   "codemirror_mode": {
    "name": "ipython",
    "version": 3
   },
   "file_extension": ".py",
   "mimetype": "text/x-python",
   "name": "python",
   "nbconvert_exporter": "python",
   "pygments_lexer": "ipython3",
   "version": "3.6.5"
  }
 },
 "nbformat": 4,
 "nbformat_minor": 2
}
