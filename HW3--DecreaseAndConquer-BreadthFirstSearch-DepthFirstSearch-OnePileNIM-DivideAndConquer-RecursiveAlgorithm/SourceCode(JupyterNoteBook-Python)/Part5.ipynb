{
 "cells": [
  {
   "cell_type": "markdown",
   "metadata": {},
   "source": [
    "# Part5"
   ]
  },
  {
   "cell_type": "markdown",
   "metadata": {},
   "source": [
    "### ReturnPattern"
   ]
  },
  {
   "cell_type": "markdown",
   "metadata": {},
   "source": [
    "The \"ReturnPattern\" function is a helper function that creates a new pattern in a recursive way by taking a string and a dictionary."
   ]
  },
  {
   "cell_type": "markdown",
   "metadata": {},
   "source": [
    "#### Complexity Analysis"
   ]
  },
  {
   "cell_type": "markdown",
   "metadata": {},
   "source": [
    "If operations as asignment,lower function and comparision  are given constant time except function calls, we can say O(1).\n",
    "\n",
    "subStr = string[0 : count] is part that finding sub-string on string. The count value can increase but it must be not exceed list size. If there is not sub-string in dictionary, count value can be as n value. O(n)\n",
    "\n",
    "O(n) value is bigger than O(1)\n",
    "\n",
    "O(1) is eliminated.\n",
    "\n",
    "T(n) = T(n - 1) + O(n) \n",
    "\n",
    "T(n) = T(n-1) + n\n",
    "\n",
    "T(n-1) =T(n-2) + n-1\n",
    "\n",
    "T(n-2) = T(n-3) + n-2\n",
    "\n",
    "and so on you can substitute the value of T(n-1) and T(n-2) in T(n) to get a general idea of the pattern.\n",
    "\n",
    "T(n) = T(n-2) + n-1 + n\n",
    "\n",
    "\n",
    "T(n) = T(n-3) + n-2 + n-1 + n\n",
    "\n",
    "T(n) = T(n-k) +kn - k(k-1)/2\n",
    "\n",
    "\n",
    "For base case:\n",
    "\n",
    "n - k =1 so we can get T(1)\n",
    "k = n - 1 substitute in above\n",
    "\n",
    "T(n) = T(1) + (n-1)n - (n-1)(n-2)/2\n",
    "\n",
    "\n",
    "T(n) = O(n^2) "
   ]
  },
  {
   "cell_type": "code",
   "execution_count": 1,
   "metadata": {},
   "outputs": [],
   "source": [
    "def ReturnPattern(string, dictionary, newDictionary={}, pattern=\"\", patternVal='A',count=1):\n",
    "    string = string.lower()\n",
    "            \n",
    "    if (len(string) == 0):\n",
    "        return pattern\n",
    "    \n",
    "    subStr = string[0 : count]\n",
    "    \n",
    "    if(len(string) < count):\n",
    "        pattern += str(patternVal)\n",
    "        return pattern\n",
    "    \n",
    "    if subStr in dictionary:\n",
    "        if subStr in newDictionary:\n",
    "            pattern += str(newDictionary[subStr])\n",
    "            return ReturnPattern(string[count:], dictionary, newDictionary, pattern, patternVal, 1)\n",
    "        else:\n",
    "            newDictionary[subStr] = patternVal\n",
    "            pattern += str(patternVal)\n",
    "            return ReturnPattern(string[count:], dictionary, newDictionary, pattern, chr(ord(patternVal) + 1), 1)\n",
    "    else:\n",
    "        return ReturnPattern(string, dictionary, newDictionary, pattern, patternVal, count+1)"
   ]
  },
  {
   "cell_type": "markdown",
   "metadata": {},
   "source": [
    "### patternCheck"
   ]
  },
  {
   "cell_type": "markdown",
   "metadata": {},
   "source": [
    "The \"patternCheck\" function is the function to check whether the pattern specified by the user is the same as the pattern produced by the \"ReturnPattern\" function."
   ]
  },
  {
   "cell_type": "code",
   "execution_count": 2,
   "metadata": {},
   "outputs": [],
   "source": [
    "def patternCheck(string, pattern, dictionary):\n",
    "    if pattern == ReturnPattern(string, dictionary):\n",
    "        return \"Pattern is Valid\"\n",
    "    return \"Pattern is Invalid\""
   ]
  },
  {
   "cell_type": "markdown",
   "metadata": {},
   "source": [
    "### Main"
   ]
  },
  {
   "cell_type": "markdown",
   "metadata": {},
   "source": [
    "It is the trigger function that runs the \"patternCheck\" function with \"string\", \"dictionary\" and \"pattern\" specified as fixed."
   ]
  },
  {
   "cell_type": "code",
   "execution_count": 3,
   "metadata": {},
   "outputs": [],
   "source": [
    "def main():\n",
    "    string = \"Tobeornottobe\"\n",
    "    dictionary = {\"to\",\"be\",\"or\",\"not\"}\n",
    "    pattern = \"ABCDAB\"\n",
    "    print(patternCheck(string, pattern, dictionary))"
   ]
  },
  {
   "cell_type": "code",
   "execution_count": 4,
   "metadata": {},
   "outputs": [
    {
     "name": "stdout",
     "output_type": "stream",
     "text": [
      "Pattern is Valid\n"
     ]
    }
   ],
   "source": [
    "if __name__ == \"__main__\":\n",
    "    main()"
   ]
  },
  {
   "cell_type": "code",
   "execution_count": null,
   "metadata": {},
   "outputs": [],
   "source": []
  }
 ],
 "metadata": {
  "kernelspec": {
   "display_name": "Python 3",
   "language": "python",
   "name": "python3"
  },
  "language_info": {
   "codemirror_mode": {
    "name": "ipython",
    "version": 3
   },
   "file_extension": ".py",
   "mimetype": "text/x-python",
   "name": "python",
   "nbconvert_exporter": "python",
   "pygments_lexer": "ipython3",
   "version": "3.6.5"
  }
 },
 "nbformat": 4,
 "nbformat_minor": 2
}
