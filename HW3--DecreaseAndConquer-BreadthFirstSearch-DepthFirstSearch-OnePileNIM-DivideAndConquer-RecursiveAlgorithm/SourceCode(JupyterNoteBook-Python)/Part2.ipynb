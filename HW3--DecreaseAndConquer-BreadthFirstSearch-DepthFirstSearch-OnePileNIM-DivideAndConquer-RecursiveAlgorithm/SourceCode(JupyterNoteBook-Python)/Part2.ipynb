{
 "cells": [
  {
   "cell_type": "markdown",
   "metadata": {},
   "source": [
    "# Part2"
   ]
  },
  {
   "cell_type": "markdown",
   "metadata": {},
   "source": [
    "To generate random numbers, the random library is imported."
   ]
  },
  {
   "cell_type": "code",
   "execution_count": 1,
   "metadata": {},
   "outputs": [],
   "source": [
    "import random"
   ]
  },
  {
   "cell_type": "markdown",
   "metadata": {},
   "source": [
    "### winner"
   ]
  },
  {
   "cell_type": "markdown",
   "metadata": {},
   "source": [
    "The winner function is the function that determines who will win the One-Pile NIM game. This function is a two-player game that says that there are n chips in the pile and the m is taking maximum number of chips from this pile. Players' moves are played randomly. However, it has always been created so that the first user will win. The \"player1\" part of the Winner function is designed to win when someone enters anything."
   ]
  },
  {
   "cell_type": "markdown",
   "metadata": {},
   "source": [
    "#### Complexity Analysis"
   ]
  },
  {
   "cell_type": "markdown",
   "metadata": {},
   "source": [
    "If operations as asignment,randint and comparision  are given constant time except function calls, we can say O(1).\n",
    "\n",
    "T(n) = T(n - m) + O(1)\n",
    "\n",
    "\"Assume that, Backward Substitution Method or Forward Substitution Method is applied\"\n",
    "\n",
    "T(n) = T(0) + 1 + 1 ....= n/m times 1\n",
    "\n",
    "T(n) = n/m\n",
    "\n",
    "T(n) = O(n/m) "
   ]
  },
  {
   "cell_type": "code",
   "execution_count": 2,
   "metadata": {},
   "outputs": [],
   "source": [
    "def winner(n, m, player1, player2, playerNo=None):\n",
    "    \n",
    "    if playerNo is None:\n",
    "        playerNo = player1\n",
    "    if(n <= m):\n",
    "        if playerNo == player1:\n",
    "            return player1\n",
    "        else:\n",
    "            return player2\n",
    "    \n",
    "    if(playerNo == player1):\n",
    "        if(n <= 2*m):\n",
    "            modRes = n % (m+1)\n",
    "            return winner((n - modRes), m, player1, player2, player2)\n",
    "        else:\n",
    "            return winner((n - (random.randint(1, m))), m, player1, player2, player2)\n",
    "    else:\n",
    "        return winner((n - (random.randint(1, m))), m, player1, player2, player1)"
   ]
  },
  {
   "cell_type": "markdown",
   "metadata": {},
   "source": [
    "### inputValues"
   ]
  },
  {
   "cell_type": "markdown",
   "metadata": {},
   "source": [
    "The inputValues function is the function that takes the number of chips (n) from the user in the pile, the number of chips (m) to be drawn from the maximum pile and the names of the players."
   ]
  },
  {
   "cell_type": "code",
   "execution_count": 3,
   "metadata": {},
   "outputs": [],
   "source": [
    "def inputValues():\n",
    "    player1 = str(input(\"Enter a player1 Name >>> \"))\n",
    "    player2 = str(input(\"Enter a player2 Name >>> \"))\n",
    "    n = int(input(\"Enter an integer for n chips in the pile        >>> \"))\n",
    "    m = int(input(\"Enter an integer for most m chips from the pile >>> \"))\n",
    "    while(n % (m+1) == 0 or n <= m):\n",
    "        print(\"\\n\\\"n % (m+1)\\\" must be not equal to 0\\n\\t\\tOR\\nThe n value must be bigger than m value\")\n",
    "        n = int(input(\"Enter an integer for n chips in the pile        >>> \"))\n",
    "        m = int(input(\"Enter an integer for most m chips from the pile >>> \"))\n",
    "    return n,m,player1,player2"
   ]
  },
  {
   "cell_type": "markdown",
   "metadata": {},
   "source": [
    "### Main "
   ]
  },
  {
   "cell_type": "markdown",
   "metadata": {},
   "source": [
    "The function \"inputValues\" and \"winner\" is the trigger function."
   ]
  },
  {
   "cell_type": "code",
   "execution_count": 4,
   "metadata": {},
   "outputs": [],
   "source": [
    "def main():\n",
    "    n,m,player1,player2 = inputValues()\n",
    "    print(\"Winner is Player \" + str(winner(n, m, player1, player2)))"
   ]
  },
  {
   "cell_type": "code",
   "execution_count": 5,
   "metadata": {},
   "outputs": [
    {
     "name": "stdout",
     "output_type": "stream",
     "text": [
      "Enter a player1 Name >>> Yunus\n",
      "Enter a player2 Name >>> Mahmut\n",
      "Enter an integer for n chips in the pile        >>> 24\n",
      "Enter an integer for most m chips from the pile >>> 4\n",
      "Winner is Player Yunus\n"
     ]
    }
   ],
   "source": [
    "if __name__ == \"__main__\":\n",
    "    main()"
   ]
  },
  {
   "cell_type": "code",
   "execution_count": null,
   "metadata": {},
   "outputs": [],
   "source": []
  }
 ],
 "metadata": {
  "kernelspec": {
   "display_name": "Python 3",
   "language": "python",
   "name": "python3"
  },
  "language_info": {
   "codemirror_mode": {
    "name": "ipython",
    "version": 3
   },
   "file_extension": ".py",
   "mimetype": "text/x-python",
   "name": "python",
   "nbconvert_exporter": "python",
   "pygments_lexer": "ipython3",
   "version": "3.6.5"
  }
 },
 "nbformat": 4,
 "nbformat_minor": 2
}
