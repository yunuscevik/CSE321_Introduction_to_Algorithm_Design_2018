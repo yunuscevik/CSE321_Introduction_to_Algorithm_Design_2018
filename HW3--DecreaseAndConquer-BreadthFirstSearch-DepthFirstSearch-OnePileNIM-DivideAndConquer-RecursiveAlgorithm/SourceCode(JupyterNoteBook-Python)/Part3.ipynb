{
 "cells": [
  {
   "cell_type": "markdown",
   "metadata": {},
   "source": [
    "# Part3"
   ]
  },
  {
   "cell_type": "markdown",
   "metadata": {},
   "source": [
    "### findFixedPoint"
   ]
  },
  {
   "cell_type": "markdown",
   "metadata": {},
   "source": [
    "The findFixedPoint function is designed with the \"divide and conquer\" algorithm. This function is the function that determines index value with the index value in the list is the same or not."
   ]
  },
  {
   "cell_type": "markdown",
   "metadata": {},
   "source": [
    "#### Complexity Analysis"
   ]
  },
  {
   "cell_type": "markdown",
   "metadata": {},
   "source": [
    "This function, which determines whether the index value is the same as the index value in the list, applies the \"Divide and Conquer\" algorithm.Each time the function is called, the array is divided by two. Therefore, if the middle point value of this function is the same as the index value in the first two divisions, then \"Best - Case\" is T(n) = O(1) Constant Time. However, if the middle point value is not the same as the index value in the two segments, the \"Worst - Case\" T(n) = T(n/2)  + c\n",
    "\n",
    "\"Assume that, Backward Substitution Method or Forward Substitution Method is applied\"\n",
    "\n",
    "As a result, T(n) = O(log n) is Logarithmic Time."
   ]
  },
  {
   "cell_type": "code",
   "execution_count": 1,
   "metadata": {},
   "outputs": [],
   "source": [
    "def findFixedPoint(arr, leftValue, rightValue):\n",
    "    midlePoint = None\n",
    "    if rightValue >= leftValue: \n",
    "        midlePoint = (leftValue + rightValue)//2\n",
    "    if midlePoint is not None:\n",
    "        if midlePoint is arr[midlePoint]: \n",
    "            return int(midlePoint)\n",
    "\n",
    "        if midlePoint > arr[midlePoint]: \n",
    "            return findFixedPoint(arr, (midlePoint + 1), rightValue) \n",
    "        else: \n",
    "            return findFixedPoint(arr, leftValue, (midlePoint -1)) \n",
    "    else:\n",
    "        return \"There is not Fixed Point\"\n"
   ]
  },
  {
   "cell_type": "markdown",
   "metadata": {},
   "source": [
    "### Main"
   ]
  },
  {
   "cell_type": "markdown",
   "metadata": {},
   "source": [
    "A function that triggers the operation of the \"findFixedPoint\" function on an sorted list."
   ]
  },
  {
   "cell_type": "code",
   "execution_count": 2,
   "metadata": {},
   "outputs": [],
   "source": [
    "def main():\n",
    "    arr = [-10,0,2,10,30,50,110]\n",
    "    result = findFixedPoint(sorted(arr), 0, len(arr)-1)\n",
    "    if(isinstance(result, str)):\n",
    "        print(result)\n",
    "    else:\n",
    "        print(\"Fixed Point is \" + str(result))\n"
   ]
  },
  {
   "cell_type": "code",
   "execution_count": 3,
   "metadata": {},
   "outputs": [
    {
     "name": "stdout",
     "output_type": "stream",
     "text": [
      "Fixed Point is 2\n"
     ]
    }
   ],
   "source": [
    "if __name__ == \"__main__\":\n",
    "    main()"
   ]
  },
  {
   "cell_type": "code",
   "execution_count": null,
   "metadata": {},
   "outputs": [],
   "source": []
  },
  {
   "cell_type": "code",
   "execution_count": null,
   "metadata": {},
   "outputs": [],
   "source": []
  }
 ],
 "metadata": {
  "kernelspec": {
   "display_name": "Python 3",
   "language": "python",
   "name": "python3"
  },
  "language_info": {
   "codemirror_mode": {
    "name": "ipython",
    "version": 3
   },
   "file_extension": ".py",
   "mimetype": "text/x-python",
   "name": "python",
   "nbconvert_exporter": "python",
   "pygments_lexer": "ipython3",
   "version": "3.6.5"
  }
 },
 "nbformat": 4,
 "nbformat_minor": 2
}
